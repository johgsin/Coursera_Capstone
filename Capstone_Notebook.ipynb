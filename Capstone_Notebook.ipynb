{
 "cells": [
  {
   "cell_type": "markdown",
   "id": "297dffed",
   "metadata": {},
   "source": [
    "# Capstone Project"
   ]
  },
  {
   "cell_type": "markdown",
   "id": "a2f54625",
   "metadata": {},
   "source": [
    "## this notebook will be mainly used for the capstone project\n"
   ]
  },
  {
   "cell_type": "code",
   "execution_count": 3,
   "id": "db456faa",
   "metadata": {},
   "outputs": [],
   "source": [
    "#Dataframe manipulation library\n",
    "import pandas as pd\n",
    "import numpy as np"
   ]
  },
  {
   "cell_type": "code",
   "execution_count": 5,
   "id": "fe750515",
   "metadata": {},
   "outputs": [
    {
     "name": "stdout",
     "output_type": "stream",
     "text": [
      "Hello Capstone Project Course!\n"
     ]
    }
   ],
   "source": [
    "print (\"Hello Capstone Project Course!\")"
   ]
  },
  {
   "cell_type": "markdown",
   "id": "ae38a496",
   "metadata": {},
   "source": [
    "### Business Problem: JS hotel just opened in Manahattan NY. They are targeting out-of-town visitors who want to explore all that Manahattan has to offer. Unfortunetely, due to size limitations, the buidling does not come equiped with a gym. However, they wan't to provide health and wellness to their customers.\n",
    "\n",
    "### Solution: Given this, the hotel wants to contact gyms in the area for partnership and to put together a packet detailing where all the gyms in the area are located. The hotel really values high customer satisfaction so they also want this ethos to be reflected in the gyms they partner with."
   ]
  },
  {
   "cell_type": "markdown",
   "id": "0732a7f1",
   "metadata": {},
   "source": [
    "### Data: I will pull location data for the Manahattan burough of NY, and use the FourSquare API to find the  gyms in the area and filter to see which ones have the highest ratings. For example, I will search for gyms in the area with FourSquare's Venue API that are within a certain radius of the hotel."
   ]
  },
  {
   "cell_type": "code",
   "execution_count": null,
   "id": "21737b44",
   "metadata": {},
   "outputs": [],
   "source": []
  }
 ],
 "metadata": {
  "kernelspec": {
   "display_name": "Python 3",
   "language": "python",
   "name": "python3"
  },
  "language_info": {
   "codemirror_mode": {
    "name": "ipython",
    "version": 3
   },
   "file_extension": ".py",
   "mimetype": "text/x-python",
   "name": "python",
   "nbconvert_exporter": "python",
   "pygments_lexer": "ipython3",
   "version": "3.8.8"
  }
 },
 "nbformat": 4,
 "nbformat_minor": 5
}
